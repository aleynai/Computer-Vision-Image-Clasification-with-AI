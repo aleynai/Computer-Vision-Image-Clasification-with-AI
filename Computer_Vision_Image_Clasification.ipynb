{
  "nbformat": 4,
  "nbformat_minor": 0,
  "metadata": {
    "colab": {
      "provenance": [],
      "collapsed_sections": []
    },
    "kernelspec": {
      "name": "python3",
      "display_name": "Python 3"
    },
    "language_info": {
      "name": "python"
    }
  },
  "cells": [
    {
      "cell_type": "markdown",
      "source": [
        "#Computer Vision Image Clasification\n",
        "\n",
        "```\n",
        "Melike Aleyna Coşkunkan - Machine Learning Engineer\n",
        "```\n",
        "\n"
      ],
      "metadata": {
        "id": "8G2oZcon-Uow"
      }
    },
    {
      "cell_type": "markdown",
      "source": [
        "# ⬇️ Data Download"
      ],
      "metadata": {
        "id": "dSIv9JSPxEyB"
      }
    },
    {
      "cell_type": "code",
      "source": [
        "!unzip /content/Planets_Moons_Reduced_Data.zip"
      ],
      "metadata": {
        "colab": {
          "base_uri": "https://localhost:8080/"
        },
        "id": "9EAMjylWxCYA",
        "outputId": "f8f26186-bced-405e-aea1-e9d633c12497"
      },
      "execution_count": 2,
      "outputs": [
        {
          "output_type": "stream",
          "name": "stdout",
          "text": [
            "Archive:  /content/Planets_Moons_Reduced_Data.zip\n",
            "   creating: Planets_Moons/\n",
            "   creating: Planets_Moons/Earth/\n",
            "  inflating: Planets_Moons/Earth/Earth (1).jpg  \n",
            "  inflating: Planets_Moons/Earth/Earth (10).jpg  \n",
            "  inflating: Planets_Moons/Earth/Earth (100).jpg  \n",
            "  inflating: Planets_Moons/Earth/Earth (101).jpg  \n",
            "  inflating: Planets_Moons/Earth/Earth (102).jpg  \n",
            "  inflating: Planets_Moons/Earth/Earth (103).jpg  \n",
            "  inflating: Planets_Moons/Earth/Earth (104).jpg  \n",
            "  inflating: Planets_Moons/Earth/Earth (105).jpg  \n",
            "  inflating: Planets_Moons/Earth/Earth (106).jpg  \n",
            "  inflating: Planets_Moons/Earth/Earth (107).jpg  \n",
            "  inflating: Planets_Moons/Earth/Earth (108).jpg  \n",
            "  inflating: Planets_Moons/Earth/Earth (109).jpg  \n",
            "  inflating: Planets_Moons/Earth/Earth (11).jpg  \n",
            "  inflating: Planets_Moons/Earth/Earth (110).jpg  \n",
            "  inflating: Planets_Moons/Earth/Earth (111).jpg  \n",
            "  inflating: Planets_Moons/Earth/Earth (112).jpg  \n",
            "  inflating: Planets_Moons/Earth/Earth (113).jpg  \n",
            "  inflating: Planets_Moons/Earth/Earth (114).jpg  \n",
            "  inflating: Planets_Moons/Earth/Earth (115).jpg  \n",
            "  inflating: Planets_Moons/Earth/Earth (116).jpg  \n",
            "  inflating: Planets_Moons/Earth/Earth (117).jpg  \n",
            "  inflating: Planets_Moons/Earth/Earth (118).jpg  \n",
            "  inflating: Planets_Moons/Earth/Earth (119).jpg  \n",
            "  inflating: Planets_Moons/Earth/Earth (12).jpg  \n",
            "  inflating: Planets_Moons/Earth/Earth (120).jpg  \n",
            "  inflating: Planets_Moons/Earth/Earth (121).jpg  \n",
            "  inflating: Planets_Moons/Earth/Earth (122).jpg  \n",
            "  inflating: Planets_Moons/Earth/Earth (123).jpg  \n",
            "  inflating: Planets_Moons/Earth/Earth (124).jpg  \n",
            "  inflating: Planets_Moons/Earth/Earth (125).jpg  \n",
            "  inflating: Planets_Moons/Earth/Earth (126).jpg  \n",
            "  inflating: Planets_Moons/Earth/Earth (127).jpg  \n",
            "  inflating: Planets_Moons/Earth/Earth (128).jpg  \n",
            "  inflating: Planets_Moons/Earth/Earth (129).jpg  \n",
            "  inflating: Planets_Moons/Earth/Earth (13).jpg  \n",
            "  inflating: Planets_Moons/Earth/Earth (130).jpg  \n",
            "  inflating: Planets_Moons/Earth/Earth (131).jpg  \n",
            "  inflating: Planets_Moons/Earth/Earth (132).jpg  \n",
            "  inflating: Planets_Moons/Earth/Earth (133).jpg  \n",
            "  inflating: Planets_Moons/Earth/Earth (134).jpg  \n",
            "  inflating: Planets_Moons/Earth/Earth (135).jpg  \n",
            "  inflating: Planets_Moons/Earth/Earth (136).jpg  \n",
            "  inflating: Planets_Moons/Earth/Earth (137).jpg  \n",
            "  inflating: Planets_Moons/Earth/Earth (138).jpg  \n",
            "  inflating: Planets_Moons/Earth/Earth (139).jpg  \n",
            "  inflating: Planets_Moons/Earth/Earth (14).jpg  \n",
            "  inflating: Planets_Moons/Earth/Earth (140).jpg  \n",
            "  inflating: Planets_Moons/Earth/Earth (141).jpg  \n",
            "  inflating: Planets_Moons/Earth/Earth (142).jpg  \n",
            "  inflating: Planets_Moons/Earth/Earth (143).jpg  \n",
            "  inflating: Planets_Moons/Earth/Earth (144).jpg  \n",
            "  inflating: Planets_Moons/Earth/Earth (145).jpg  \n",
            "  inflating: Planets_Moons/Earth/Earth (146).jpg  \n",
            "  inflating: Planets_Moons/Earth/Earth (147).jpg  \n",
            "  inflating: Planets_Moons/Earth/Earth (148).jpg  \n",
            "  inflating: Planets_Moons/Earth/Earth (149).jpg  \n",
            "  inflating: Planets_Moons/Earth/Earth (15).jpg  \n",
            "  inflating: Planets_Moons/Earth/Earth (16).jpg  \n",
            "  inflating: Planets_Moons/Earth/Earth (17).jpg  \n",
            "  inflating: Planets_Moons/Earth/Earth (18).jpg  \n",
            "  inflating: Planets_Moons/Earth/Earth (19).jpg  \n",
            "  inflating: Planets_Moons/Earth/Earth (2).jpg  \n",
            "  inflating: Planets_Moons/Earth/Earth (20).jpg  \n",
            "  inflating: Planets_Moons/Earth/Earth (21).jpg  \n",
            "  inflating: Planets_Moons/Earth/Earth (22).jpg  \n",
            "  inflating: Planets_Moons/Earth/Earth (23).jpg  \n",
            "  inflating: Planets_Moons/Earth/Earth (24).jpg  \n",
            "  inflating: Planets_Moons/Earth/Earth (25).jpg  \n",
            "  inflating: Planets_Moons/Earth/Earth (26).jpg  \n",
            "  inflating: Planets_Moons/Earth/Earth (27).jpg  \n",
            "  inflating: Planets_Moons/Earth/Earth (28).jpg  \n",
            "  inflating: Planets_Moons/Earth/Earth (29).jpg  \n",
            "  inflating: Planets_Moons/Earth/Earth (3).jpg  \n",
            "  inflating: Planets_Moons/Earth/Earth (30).jpg  \n",
            "  inflating: Planets_Moons/Earth/Earth (31).jpg  \n",
            "  inflating: Planets_Moons/Earth/Earth (32).jpg  \n",
            "  inflating: Planets_Moons/Earth/Earth (33).jpg  \n",
            "  inflating: Planets_Moons/Earth/Earth (34).jpg  \n",
            "  inflating: Planets_Moons/Earth/Earth (35).jpg  \n",
            "  inflating: Planets_Moons/Earth/Earth (36).jpg  \n",
            "  inflating: Planets_Moons/Earth/Earth (37).jpg  \n",
            "  inflating: Planets_Moons/Earth/Earth (38).jpg  \n",
            "  inflating: Planets_Moons/Earth/Earth (39).jpg  \n",
            "  inflating: Planets_Moons/Earth/Earth (4).jpg  \n",
            "  inflating: Planets_Moons/Earth/Earth (40).jpg  \n",
            "  inflating: Planets_Moons/Earth/Earth (41).jpg  \n",
            "  inflating: Planets_Moons/Earth/Earth (42).jpg  \n",
            "  inflating: Planets_Moons/Earth/Earth (43).jpg  \n",
            "  inflating: Planets_Moons/Earth/Earth (44).jpg  \n",
            "  inflating: Planets_Moons/Earth/Earth (45).jpg  \n",
            "  inflating: Planets_Moons/Earth/Earth (46).jpg  \n",
            "  inflating: Planets_Moons/Earth/Earth (47).jpg  \n",
            "  inflating: Planets_Moons/Earth/Earth (48).jpg  \n",
            "  inflating: Planets_Moons/Earth/Earth (49).jpg  \n",
            "  inflating: Planets_Moons/Earth/Earth (5).jpg  \n",
            "  inflating: Planets_Moons/Earth/Earth (50).jpg  \n",
            "  inflating: Planets_Moons/Earth/Earth (51).jpg  \n",
            "  inflating: Planets_Moons/Earth/Earth (52).jpg  \n",
            "  inflating: Planets_Moons/Earth/Earth (53).jpg  \n",
            "  inflating: Planets_Moons/Earth/Earth (54).jpg  \n",
            "  inflating: Planets_Moons/Earth/Earth (55).jpg  \n",
            "  inflating: Planets_Moons/Earth/Earth (56).jpg  \n",
            "  inflating: Planets_Moons/Earth/Earth (57).jpg  \n",
            "  inflating: Planets_Moons/Earth/Earth (58).jpg  \n",
            "  inflating: Planets_Moons/Earth/Earth (59).jpg  \n",
            "  inflating: Planets_Moons/Earth/Earth (6).jpg  \n",
            "  inflating: Planets_Moons/Earth/Earth (60).jpg  \n",
            "  inflating: Planets_Moons/Earth/Earth (61).jpg  \n",
            "  inflating: Planets_Moons/Earth/Earth (62).jpg  \n",
            "  inflating: Planets_Moons/Earth/Earth (63).jpg  \n",
            "  inflating: Planets_Moons/Earth/Earth (64).jpg  \n",
            "  inflating: Planets_Moons/Earth/Earth (65).jpg  \n",
            "  inflating: Planets_Moons/Earth/Earth (66).jpg  \n",
            "  inflating: Planets_Moons/Earth/Earth (67).jpg  \n",
            "  inflating: Planets_Moons/Earth/Earth (68).jpg  \n",
            "  inflating: Planets_Moons/Earth/Earth (69).jpg  \n",
            "  inflating: Planets_Moons/Earth/Earth (7).jpg  \n",
            "  inflating: Planets_Moons/Earth/Earth (70).jpg  \n",
            "  inflating: Planets_Moons/Earth/Earth (71).jpg  \n",
            "  inflating: Planets_Moons/Earth/Earth (72).jpg  \n",
            "  inflating: Planets_Moons/Earth/Earth (73).jpg  \n",
            "  inflating: Planets_Moons/Earth/Earth (74).jpg  \n",
            "  inflating: Planets_Moons/Earth/Earth (75).jpg  \n",
            "  inflating: Planets_Moons/Earth/Earth (76).jpg  \n",
            "  inflating: Planets_Moons/Earth/Earth (77).jpg  \n",
            "  inflating: Planets_Moons/Earth/Earth (78).jpg  \n",
            "  inflating: Planets_Moons/Earth/Earth (79).jpg  \n",
            "  inflating: Planets_Moons/Earth/Earth (8).jpg  \n",
            "  inflating: Planets_Moons/Earth/Earth (80).jpg  \n",
            "  inflating: Planets_Moons/Earth/Earth (81).jpg  \n",
            "  inflating: Planets_Moons/Earth/Earth (82).jpg  \n",
            "  inflating: Planets_Moons/Earth/Earth (83).jpg  \n",
            "  inflating: Planets_Moons/Earth/Earth (84).jpg  \n",
            "  inflating: Planets_Moons/Earth/Earth (85).jpg  \n",
            "  inflating: Planets_Moons/Earth/Earth (86).jpg  \n",
            "  inflating: Planets_Moons/Earth/Earth (87).jpg  \n",
            "  inflating: Planets_Moons/Earth/Earth (88).jpg  \n",
            "  inflating: Planets_Moons/Earth/Earth (89).jpg  \n",
            "  inflating: Planets_Moons/Earth/Earth (9).jpg  \n",
            "  inflating: Planets_Moons/Earth/Earth (90).jpg  \n",
            "  inflating: Planets_Moons/Earth/Earth (91).jpg  \n",
            "  inflating: Planets_Moons/Earth/Earth (92).jpg  \n",
            "  inflating: Planets_Moons/Earth/Earth (93).jpg  \n",
            "  inflating: Planets_Moons/Earth/Earth (94).jpg  \n",
            "  inflating: Planets_Moons/Earth/Earth (95).jpg  \n",
            "  inflating: Planets_Moons/Earth/Earth (96).jpg  \n",
            "  inflating: Planets_Moons/Earth/Earth (97).jpg  \n",
            "  inflating: Planets_Moons/Earth/Earth (98).jpg  \n",
            "  inflating: Planets_Moons/Earth/Earth (99).jpg  \n",
            "   creating: Planets_Moons/Mars/\n",
            "  inflating: Planets_Moons/Mars/Mars (1).jpg  \n",
            "  inflating: Planets_Moons/Mars/Mars (10).jpg  \n",
            "  inflating: Planets_Moons/Mars/Mars (100).jpg  \n",
            "  inflating: Planets_Moons/Mars/Mars (101).jpg  \n",
            "  inflating: Planets_Moons/Mars/Mars (102).jpg  \n",
            "  inflating: Planets_Moons/Mars/Mars (103).jpg  \n",
            "  inflating: Planets_Moons/Mars/Mars (104).jpg  \n",
            "  inflating: Planets_Moons/Mars/Mars (105).jpg  \n",
            "  inflating: Planets_Moons/Mars/Mars (106).jpg  \n",
            "  inflating: Planets_Moons/Mars/Mars (107).jpg  \n",
            "  inflating: Planets_Moons/Mars/Mars (108).jpg  \n",
            "  inflating: Planets_Moons/Mars/Mars (109).jpg  \n",
            "  inflating: Planets_Moons/Mars/Mars (11).jpg  \n",
            "  inflating: Planets_Moons/Mars/Mars (110).jpg  \n",
            "  inflating: Planets_Moons/Mars/Mars (111).jpg  \n",
            "  inflating: Planets_Moons/Mars/Mars (112).jpg  \n",
            "  inflating: Planets_Moons/Mars/Mars (113).jpg  \n",
            "  inflating: Planets_Moons/Mars/Mars (114).jpg  \n",
            "  inflating: Planets_Moons/Mars/Mars (115).jpg  \n",
            "  inflating: Planets_Moons/Mars/Mars (116).jpg  \n",
            "  inflating: Planets_Moons/Mars/Mars (117).jpg  \n",
            "  inflating: Planets_Moons/Mars/Mars (118).jpg  \n",
            "  inflating: Planets_Moons/Mars/Mars (119).jpg  \n",
            "  inflating: Planets_Moons/Mars/Mars (12).jpg  \n",
            "  inflating: Planets_Moons/Mars/Mars (120).jpg  \n",
            "  inflating: Planets_Moons/Mars/Mars (121).jpg  \n",
            "  inflating: Planets_Moons/Mars/Mars (122).jpg  \n",
            "  inflating: Planets_Moons/Mars/Mars (123).jpg  \n",
            "  inflating: Planets_Moons/Mars/Mars (124).jpg  \n",
            "  inflating: Planets_Moons/Mars/Mars (125).jpg  \n",
            "  inflating: Planets_Moons/Mars/Mars (126).jpg  \n",
            "  inflating: Planets_Moons/Mars/Mars (127).jpg  \n",
            "  inflating: Planets_Moons/Mars/Mars (128).jpg  \n",
            "  inflating: Planets_Moons/Mars/Mars (129).jpg  \n",
            "  inflating: Planets_Moons/Mars/Mars (13).jpg  \n",
            "  inflating: Planets_Moons/Mars/Mars (130).jpg  \n",
            "  inflating: Planets_Moons/Mars/Mars (131).jpg  \n",
            "  inflating: Planets_Moons/Mars/Mars (132).jpg  \n",
            "  inflating: Planets_Moons/Mars/Mars (133).jpg  \n",
            "  inflating: Planets_Moons/Mars/Mars (134).jpg  \n",
            "  inflating: Planets_Moons/Mars/Mars (135).jpg  \n",
            "  inflating: Planets_Moons/Mars/Mars (136).jpg  \n",
            "  inflating: Planets_Moons/Mars/Mars (137).jpg  \n",
            "  inflating: Planets_Moons/Mars/Mars (138).jpg  \n",
            "  inflating: Planets_Moons/Mars/Mars (139).jpg  \n",
            "  inflating: Planets_Moons/Mars/Mars (14).jpg  \n",
            "  inflating: Planets_Moons/Mars/Mars (140).jpg  \n",
            "  inflating: Planets_Moons/Mars/Mars (141).jpg  \n",
            "  inflating: Planets_Moons/Mars/Mars (142).jpg  \n",
            "  inflating: Planets_Moons/Mars/Mars (143).jpg  \n",
            "  inflating: Planets_Moons/Mars/Mars (144).jpg  \n",
            "  inflating: Planets_Moons/Mars/Mars (145).jpg  \n",
            "  inflating: Planets_Moons/Mars/Mars (146).jpg  \n",
            "  inflating: Planets_Moons/Mars/Mars (147).jpg  \n",
            "  inflating: Planets_Moons/Mars/Mars (148).jpg  \n",
            "  inflating: Planets_Moons/Mars/Mars (149).jpg  \n",
            "  inflating: Planets_Moons/Mars/Mars (15).jpg  \n",
            "  inflating: Planets_Moons/Mars/Mars (16).jpg  \n",
            "  inflating: Planets_Moons/Mars/Mars (17).jpg  \n",
            "  inflating: Planets_Moons/Mars/Mars (18).jpg  \n",
            "  inflating: Planets_Moons/Mars/Mars (19).jpg  \n",
            "  inflating: Planets_Moons/Mars/Mars (2).jpg  \n",
            "  inflating: Planets_Moons/Mars/Mars (20).jpg  \n",
            "  inflating: Planets_Moons/Mars/Mars (21).jpg  \n",
            "  inflating: Planets_Moons/Mars/Mars (22).jpg  \n",
            "  inflating: Planets_Moons/Mars/Mars (23).jpg  \n",
            "  inflating: Planets_Moons/Mars/Mars (24).jpg  \n",
            "  inflating: Planets_Moons/Mars/Mars (25).jpg  \n",
            "  inflating: Planets_Moons/Mars/Mars (26).jpg  \n",
            "  inflating: Planets_Moons/Mars/Mars (27).jpg  \n",
            "  inflating: Planets_Moons/Mars/Mars (28).jpg  \n",
            "  inflating: Planets_Moons/Mars/Mars (29).jpg  \n",
            "  inflating: Planets_Moons/Mars/Mars (3).jpg  \n",
            "  inflating: Planets_Moons/Mars/Mars (30).jpg  \n",
            "  inflating: Planets_Moons/Mars/Mars (31).jpg  \n",
            "  inflating: Planets_Moons/Mars/Mars (32).jpg  \n",
            "  inflating: Planets_Moons/Mars/Mars (33).jpg  \n",
            "  inflating: Planets_Moons/Mars/Mars (34).jpg  \n",
            "  inflating: Planets_Moons/Mars/Mars (35).jpg  \n",
            "  inflating: Planets_Moons/Mars/Mars (36).jpg  \n",
            "  inflating: Planets_Moons/Mars/Mars (37).jpg  \n",
            "  inflating: Planets_Moons/Mars/Mars (38).jpg  \n",
            "  inflating: Planets_Moons/Mars/Mars (39).jpg  \n",
            "  inflating: Planets_Moons/Mars/Mars (4).jpg  \n",
            "  inflating: Planets_Moons/Mars/Mars (40).jpg  \n",
            "  inflating: Planets_Moons/Mars/Mars (41).jpg  \n",
            "  inflating: Planets_Moons/Mars/Mars (42).jpg  \n",
            "  inflating: Planets_Moons/Mars/Mars (43).jpg  \n",
            "  inflating: Planets_Moons/Mars/Mars (44).jpg  \n",
            "  inflating: Planets_Moons/Mars/Mars (45).jpg  \n",
            "  inflating: Planets_Moons/Mars/Mars (46).jpg  \n",
            "  inflating: Planets_Moons/Mars/Mars (47).jpg  \n",
            "  inflating: Planets_Moons/Mars/Mars (48).jpg  \n",
            "  inflating: Planets_Moons/Mars/Mars (49).jpg  \n",
            "  inflating: Planets_Moons/Mars/Mars (5).jpg  \n",
            "  inflating: Planets_Moons/Mars/Mars (50).jpg  \n",
            "  inflating: Planets_Moons/Mars/Mars (51).jpg  \n",
            "  inflating: Planets_Moons/Mars/Mars (52).jpg  \n",
            "  inflating: Planets_Moons/Mars/Mars (53).jpg  \n",
            "  inflating: Planets_Moons/Mars/Mars (54).jpg  \n",
            "  inflating: Planets_Moons/Mars/Mars (55).jpg  \n",
            "  inflating: Planets_Moons/Mars/Mars (56).jpg  \n",
            "  inflating: Planets_Moons/Mars/Mars (57).jpg  \n",
            "  inflating: Planets_Moons/Mars/Mars (58).jpg  \n",
            "  inflating: Planets_Moons/Mars/Mars (59).jpg  \n",
            "  inflating: Planets_Moons/Mars/Mars (6).jpg  \n",
            "  inflating: Planets_Moons/Mars/Mars (60).jpg  \n",
            "  inflating: Planets_Moons/Mars/Mars (61).jpg  \n",
            "  inflating: Planets_Moons/Mars/Mars (62).jpg  \n",
            "  inflating: Planets_Moons/Mars/Mars (63).jpg  \n",
            "  inflating: Planets_Moons/Mars/Mars (64).jpg  \n",
            "  inflating: Planets_Moons/Mars/Mars (65).jpg  \n",
            "  inflating: Planets_Moons/Mars/Mars (66).jpg  \n",
            "  inflating: Planets_Moons/Mars/Mars (67).jpg  \n",
            "  inflating: Planets_Moons/Mars/Mars (68).jpg  \n",
            "  inflating: Planets_Moons/Mars/Mars (69).jpg  \n",
            "  inflating: Planets_Moons/Mars/Mars (7).jpg  \n",
            "  inflating: Planets_Moons/Mars/Mars (70).jpg  \n",
            "  inflating: Planets_Moons/Mars/Mars (71).jpg  \n",
            "  inflating: Planets_Moons/Mars/Mars (72).jpg  \n",
            "  inflating: Planets_Moons/Mars/Mars (73).jpg  \n",
            "  inflating: Planets_Moons/Mars/Mars (74).jpg  \n",
            "  inflating: Planets_Moons/Mars/Mars (75).jpg  \n",
            "  inflating: Planets_Moons/Mars/Mars (76).jpg  \n",
            "  inflating: Planets_Moons/Mars/Mars (77).jpg  \n",
            "  inflating: Planets_Moons/Mars/Mars (78).jpg  \n",
            "  inflating: Planets_Moons/Mars/Mars (79).jpg  \n",
            "  inflating: Planets_Moons/Mars/Mars (8).jpg  \n",
            "  inflating: Planets_Moons/Mars/Mars (80).jpg  \n",
            "  inflating: Planets_Moons/Mars/Mars (81).jpg  \n",
            "  inflating: Planets_Moons/Mars/Mars (82).jpg  \n",
            "  inflating: Planets_Moons/Mars/Mars (83).jpg  \n",
            "  inflating: Planets_Moons/Mars/Mars (84).jpg  \n",
            "  inflating: Planets_Moons/Mars/Mars (85).jpg  \n",
            "  inflating: Planets_Moons/Mars/Mars (86).jpg  \n",
            "  inflating: Planets_Moons/Mars/Mars (87).jpg  \n",
            "  inflating: Planets_Moons/Mars/Mars (88).jpg  \n",
            "  inflating: Planets_Moons/Mars/Mars (89).jpg  \n",
            "  inflating: Planets_Moons/Mars/Mars (9).jpg  \n",
            "  inflating: Planets_Moons/Mars/Mars (90).jpg  \n",
            "  inflating: Planets_Moons/Mars/Mars (91).jpg  \n",
            "  inflating: Planets_Moons/Mars/Mars (92).jpg  \n",
            "  inflating: Planets_Moons/Mars/Mars (93).jpg  \n",
            "  inflating: Planets_Moons/Mars/Mars (94).jpg  \n",
            "  inflating: Planets_Moons/Mars/Mars (95).jpg  \n",
            "  inflating: Planets_Moons/Mars/Mars (96).jpg  \n",
            "  inflating: Planets_Moons/Mars/Mars (97).jpg  \n",
            "  inflating: Planets_Moons/Mars/Mars (98).jpg  \n",
            "  inflating: Planets_Moons/Mars/Mars (99).jpg  \n"
          ]
        }
      ]
    },
    {
      "cell_type": "markdown",
      "source": [
        "# 📥 > 📙 Import to Libraries\n"
      ],
      "metadata": {
        "id": "cDASZNXixAHR"
      }
    },
    {
      "cell_type": "code",
      "execution_count": 19,
      "metadata": {
        "id": "6neT8ztnwm-l"
      },
      "outputs": [],
      "source": [
        "from tensorflow.keras.models import Model\n",
        "from keras.preprocessing.image import ImageDataGenerator\n",
        "from tensorflow.keras.layers import *\n",
        "from tensorflow import keras\n",
        "from tensorflow.keras import Sequential\n",
        "import tensorflow as tf"
      ]
    },
    {
      "cell_type": "markdown",
      "source": [
        "#Preparing Dataset"
      ],
      "metadata": {
        "id": "2-7yHmmv-BBo"
      }
    },
    {
      "cell_type": "code",
      "source": [
        "train_datagen = ImageDataGenerator(\n",
        "    validation_split=0.1)\n",
        "train_generator = train_datagen.flow_from_directory(\"/content/Planets_Moons\",target_size=(128, 128),\n",
        "                                                    batch_size=128,\n",
        "                                                    class_mode='categorical',\n",
        "                                                    interpolation=\"nearest\",\n",
        "                                                    subset=\"training\")\n",
        "test_generator = train_datagen.flow_from_directory(\"/content/Planets_Moons\",target_size=(128, 128),\n",
        "                                                    batch_size=128,\n",
        "                                                    class_mode='categorical',\n",
        "                                                    interpolation=\"nearest\",\n",
        "                                                    subset=\"validation\")2"
      ],
      "metadata": {
        "colab": {
          "base_uri": "https://localhost:8080/"
        },
        "id": "BQGCxTyaxRxs",
        "outputId": "10747262-1fad-4dfe-fb1f-1edef0ad13bb"
      },
      "execution_count": 4,
      "outputs": [
        {
          "output_type": "stream",
          "name": "stdout",
          "text": [
            "Found 270 images belonging to 2 classes.\n",
            "Found 28 images belonging to 2 classes.\n"
          ]
        }
      ]
    },
    {
      "cell_type": "markdown",
      "source": [
        "#Model Creating"
      ],
      "metadata": {
        "id": "upMVq1xh-HrB"
      }
    },
    {
      "cell_type": "code",
      "source": [
        "inp = Input(shape = (128,128,3))\n",
        "\n",
        "model = Conv2D(64,4,strides=1,activation=\"relu\")(inp)\n",
        "model = MaxPooling2D(2,2)(model)\n",
        "model = Flatten()(model)\n",
        "output = Dense(2,activation=\"softmax\")(model)\n",
        "model = Model(inputs=inp, outputs= output,name=\"Aleyna\")\n",
        "model.compile(optimizer=\"adam\",loss=\"categorical_crossentropy\",metrics=[\"accuracy\"])"
      ],
      "metadata": {
        "id": "yqc24s76xqhQ"
      },
      "execution_count": 14,
      "outputs": []
    },
    {
      "cell_type": "markdown",
      "source": [
        "# Model Summary"
      ],
      "metadata": {
        "id": "CwKP6VF2-Ntw"
      }
    },
    {
      "cell_type": "code",
      "source": [
        "model.summary()"
      ],
      "metadata": {
        "colab": {
          "base_uri": "https://localhost:8080/"
        },
        "id": "Egr2oQID1rKH",
        "outputId": "c755fe2b-9a0f-4714-d3fd-3c0cddae84f8"
      },
      "execution_count": 15,
      "outputs": [
        {
          "output_type": "stream",
          "name": "stdout",
          "text": [
            "Model: \"Aleyna\"\n",
            "_________________________________________________________________\n",
            " Layer (type)                Output Shape              Param #   \n",
            "=================================================================\n",
            " input_7 (InputLayer)        [(None, 128, 128, 3)]     0         \n",
            "                                                                 \n",
            " conv2d_7 (Conv2D)           (None, 125, 125, 64)      3136      \n",
            "                                                                 \n",
            " max_pooling2d_7 (MaxPooling  (None, 62, 62, 64)       0         \n",
            " 2D)                                                             \n",
            "                                                                 \n",
            " flatten_6 (Flatten)         (None, 246016)            0         \n",
            "                                                                 \n",
            " dense_2 (Dense)             (None, 2)                 492034    \n",
            "                                                                 \n",
            "=================================================================\n",
            "Total params: 495,170\n",
            "Trainable params: 495,170\n",
            "Non-trainable params: 0\n",
            "_________________________________________________________________\n"
          ]
        }
      ]
    },
    {
      "cell_type": "markdown",
      "source": [
        "**Model Fitting**"
      ],
      "metadata": {
        "id": "pKs4FLHQ-Lve"
      }
    },
    {
      "cell_type": "code",
      "source": [
        "accuracy = model.fit(train_generator,validation_data=test_generator,shuffle=True,epochs=10,batch_size=128)"
      ],
      "metadata": {
        "colab": {
          "base_uri": "https://localhost:8080/"
        },
        "id": "8XGwUSJF1z-x",
        "outputId": "97cf62fb-5147-4e32-e24b-472547a25541"
      },
      "execution_count": 16,
      "outputs": [
        {
          "output_type": "stream",
          "name": "stderr",
          "text": [
            "/usr/local/lib/python3.7/dist-packages/keras/preprocessing/image.py:1663: UserWarning: This ImageDataGenerator specifies `featurewise_center`, but it hasn't been fit on any training data. Fit it first by calling `.fit(numpy_data)`.\n",
            "  warnings.warn('This ImageDataGenerator specifies '\n",
            "/usr/local/lib/python3.7/dist-packages/keras/preprocessing/image.py:1671: UserWarning: This ImageDataGenerator specifies `featurewise_std_normalization`, but it hasn't been fit on any training data. Fit it first by calling `.fit(numpy_data)`.\n",
            "  warnings.warn('This ImageDataGenerator specifies '\n"
          ]
        },
        {
          "output_type": "stream",
          "name": "stdout",
          "text": [
            "Epoch 1/10\n",
            "3/3 [==============================] - 13s 3s/step - loss: 0.6950 - accuracy: 0.5111 - val_loss: 0.0381 - val_accuracy: 1.0000\n",
            "Epoch 2/10\n",
            "3/3 [==============================] - 11s 3s/step - loss: 0.0790 - accuracy: 0.9704 - val_loss: 0.0081 - val_accuracy: 1.0000\n",
            "Epoch 3/10\n",
            "3/3 [==============================] - 12s 6s/step - loss: 0.0139 - accuracy: 1.0000 - val_loss: 0.0380 - val_accuracy: 1.0000\n",
            "Epoch 4/10\n",
            "3/3 [==============================] - 11s 5s/step - loss: 0.0148 - accuracy: 1.0000 - val_loss: 0.0099 - val_accuracy: 1.0000\n",
            "Epoch 5/10\n",
            "3/3 [==============================] - 12s 3s/step - loss: 0.0023 - accuracy: 1.0000 - val_loss: 2.5639e-04 - val_accuracy: 1.0000\n",
            "Epoch 6/10\n",
            "3/3 [==============================] - 13s 3s/step - loss: 9.2274e-05 - accuracy: 1.0000 - val_loss: 0.0105 - val_accuracy: 1.0000\n",
            "Epoch 7/10\n",
            "3/3 [==============================] - 12s 3s/step - loss: 0.0027 - accuracy: 1.0000 - val_loss: 2.7869e-05 - val_accuracy: 1.0000\n",
            "Epoch 8/10\n",
            "3/3 [==============================] - 11s 2s/step - loss: 2.7292e-05 - accuracy: 1.0000 - val_loss: 3.2930e-05 - val_accuracy: 1.0000\n",
            "Epoch 9/10\n",
            "3/3 [==============================] - 12s 2s/step - loss: 1.5379e-05 - accuracy: 1.0000 - val_loss: 5.8182e-05 - val_accuracy: 1.0000\n",
            "Epoch 10/10\n",
            "3/3 [==============================] - 12s 3s/step - loss: 2.5913e-05 - accuracy: 1.0000 - val_loss: 8.3394e-05 - val_accuracy: 1.0000\n"
          ]
        }
      ]
    },
    {
      "cell_type": "markdown",
      "source": [
        "**Model Evaluate**"
      ],
      "metadata": {
        "id": "enButte6-Pyl"
      }
    },
    {
      "cell_type": "code",
      "source": [
        "model.evaluate(test_generator)"
      ],
      "metadata": {
        "colab": {
          "base_uri": "https://localhost:8080/"
        },
        "id": "NH5HG8Y7202V",
        "outputId": "8d09dd78-d6fb-4133-f89f-4bc16a4faf61"
      },
      "execution_count": 17,
      "outputs": [
        {
          "output_type": "stream",
          "name": "stderr",
          "text": [
            "/usr/local/lib/python3.7/dist-packages/keras/preprocessing/image.py:1663: UserWarning: This ImageDataGenerator specifies `featurewise_center`, but it hasn't been fit on any training data. Fit it first by calling `.fit(numpy_data)`.\n",
            "  warnings.warn('This ImageDataGenerator specifies '\n",
            "/usr/local/lib/python3.7/dist-packages/keras/preprocessing/image.py:1671: UserWarning: This ImageDataGenerator specifies `featurewise_std_normalization`, but it hasn't been fit on any training data. Fit it first by calling `.fit(numpy_data)`.\n",
            "  warnings.warn('This ImageDataGenerator specifies '\n"
          ]
        },
        {
          "output_type": "stream",
          "name": "stdout",
          "text": [
            "1/1 [==============================] - 1s 777ms/step - loss: 8.3394e-05 - accuracy: 1.0000\n"
          ]
        },
        {
          "output_type": "execute_result",
          "data": {
            "text/plain": [
              "[8.339357009390369e-05, 1.0]"
            ]
          },
          "metadata": {},
          "execution_count": 17
        }
      ]
    }
  ]
}